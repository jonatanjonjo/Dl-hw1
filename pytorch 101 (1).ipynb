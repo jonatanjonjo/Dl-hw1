{
 "cells": [
  {
   "cell_type": "markdown",
   "id": "90537f38",
   "metadata": {},
   "source": [
    "# PyTorch 101: Basic Tensor Operations\n",
    "Welcome to PyTorch 101! In this notebook, we’ll explore PyTorch's basic tensor operations, similar to what you might already know from using NumPy. By the end of this tutorial, you’ll have a strong foundation in working with tensors in PyTorch, which is essential for any deep learning task."
   ]
  },
  {
   "cell_type": "markdown",
   "id": "37549acc",
   "metadata": {},
   "source": [
    "## 1. Setting Up and Importing Libraries\n",
    "To get started, run the cell below to import PyTorch. We’ll also use Matplotlib to visualize data."
   ]
  },
  {
   "cell_type": "code",
   "execution_count": 1,
   "id": "71e78894",
   "metadata": {},
   "outputs": [
    {
     "name": "stdout",
     "output_type": "stream",
     "text": [
      "Collecting torch\n",
      "  Downloading torch-2.5.1-cp311-cp311-win_amd64.whl.metadata (28 kB)\n",
      "Collecting torchvision\n",
      "  Downloading torchvision-0.20.1-cp311-cp311-win_amd64.whl.metadata (6.2 kB)\n",
      "Collecting torchaudio\n",
      "  Downloading torchaudio-2.5.1-cp311-cp311-win_amd64.whl.metadata (6.5 kB)\n",
      "Requirement already satisfied: filelock in c:\\users\\user\\anaconda3\\lib\\site-packages (from torch) (3.13.1)\n",
      "Requirement already satisfied: typing-extensions>=4.8.0 in c:\\users\\user\\anaconda3\\lib\\site-packages (from torch) (4.9.0)\n",
      "Requirement already satisfied: networkx in c:\\users\\user\\anaconda3\\lib\\site-packages (from torch) (3.1)\n",
      "Requirement already satisfied: jinja2 in c:\\users\\user\\anaconda3\\lib\\site-packages (from torch) (3.1.3)\n",
      "Requirement already satisfied: fsspec in c:\\users\\user\\anaconda3\\lib\\site-packages (from torch) (2023.10.0)\n",
      "Collecting sympy==1.13.1 (from torch)\n",
      "  Downloading sympy-1.13.1-py3-none-any.whl.metadata (12 kB)\n",
      "Requirement already satisfied: mpmath<1.4,>=1.1.0 in c:\\users\\user\\anaconda3\\lib\\site-packages (from sympy==1.13.1->torch) (1.3.0)\n",
      "Requirement already satisfied: numpy in c:\\users\\user\\anaconda3\\lib\\site-packages (from torchvision) (1.26.4)\n",
      "Requirement already satisfied: pillow!=8.3.*,>=5.3.0 in c:\\users\\user\\anaconda3\\lib\\site-packages (from torchvision) (10.2.0)\n",
      "Requirement already satisfied: MarkupSafe>=2.0 in c:\\users\\user\\anaconda3\\lib\\site-packages (from jinja2->torch) (2.1.3)\n",
      "Downloading torch-2.5.1-cp311-cp311-win_amd64.whl (203.1 MB)\n",
      "   ---------------------------------------- 0.0/203.1 MB ? eta -:--:--\n",
      "   ---------------------------------------- 0.0/203.1 MB 653.6 kB/s eta 0:05:11\n",
      "   ---------------------------------------- 0.1/203.1 MB 1.4 MB/s eta 0:02:21\n",
      "   ---------------------------------------- 0.3/203.1 MB 1.7 MB/s eta 0:01:57\n",
      "   ---------------------------------------- 0.5/203.1 MB 2.4 MB/s eta 0:01:27\n",
      "   ---------------------------------------- 0.8/203.1 MB 3.2 MB/s eta 0:01:04\n",
      "   ---------------------------------------- 1.4/203.1 MB 4.8 MB/s eta 0:00:43\n",
      "   ---------------------------------------- 2.3/203.1 MB 7.0 MB/s eta 0:00:29\n",
      "    --------------------------------------- 4.2/203.1 MB 11.3 MB/s eta 0:00:18\n",
      "   - -------------------------------------- 6.7/203.1 MB 15.8 MB/s eta 0:00:13\n",
      "   - -------------------------------------- 9.8/203.1 MB 20.8 MB/s eta 0:00:10\n",
      "   -- ------------------------------------- 12.5/203.1 MB 54.4 MB/s eta 0:00:04\n",
      "   --- ------------------------------------ 15.9/203.1 MB 65.6 MB/s eta 0:00:03\n",
      "   --- ------------------------------------ 16.6/203.1 MB 65.6 MB/s eta 0:00:03\n",
      "   --- ------------------------------------ 16.6/203.1 MB 65.6 MB/s eta 0:00:03\n",
      "   --- ------------------------------------ 16.6/203.1 MB 65.6 MB/s eta 0:00:03\n",
      "   --- ------------------------------------ 19.4/203.1 MB 32.7 MB/s eta 0:00:06\n",
      "   ---- ----------------------------------- 21.3/203.1 MB 34.4 MB/s eta 0:00:06\n",
      "   ---- ----------------------------------- 23.1/203.1 MB 32.7 MB/s eta 0:00:06\n",
      "   ---- ----------------------------------- 24.5/203.1 MB 29.7 MB/s eta 0:00:07\n",
      "   ----- ---------------------------------- 25.7/203.1 MB 27.3 MB/s eta 0:00:07\n",
      "   ----- ---------------------------------- 26.5/203.1 MB 25.2 MB/s eta 0:00:08\n",
      "   ----- ---------------------------------- 28.4/203.1 MB 34.4 MB/s eta 0:00:06\n",
      "   ----- ---------------------------------- 30.0/203.1 MB 34.4 MB/s eta 0:00:06\n",
      "   ------ --------------------------------- 31.3/203.1 MB 31.2 MB/s eta 0:00:06\n",
      "   ------ --------------------------------- 32.5/203.1 MB 29.7 MB/s eta 0:00:06\n",
      "   ------ --------------------------------- 33.5/203.1 MB 28.4 MB/s eta 0:00:06\n",
      "   ------ --------------------------------- 34.5/203.1 MB 27.3 MB/s eta 0:00:07\n",
      "   ------ --------------------------------- 35.4/203.1 MB 25.2 MB/s eta 0:00:07\n",
      "   ------- -------------------------------- 36.4/203.1 MB 25.2 MB/s eta 0:00:07\n",
      "   ------- -------------------------------- 38.8/203.1 MB 27.3 MB/s eta 0:00:07\n",
      "   -------- ------------------------------- 40.7/203.1 MB 27.3 MB/s eta 0:00:06\n",
      "   -------- ------------------------------- 42.0/203.1 MB 28.4 MB/s eta 0:00:06\n",
      "   -------- ------------------------------- 43.1/203.1 MB 28.5 MB/s eta 0:00:06\n",
      "   -------- ------------------------------- 44.3/203.1 MB 28.5 MB/s eta 0:00:06\n",
      "   -------- ------------------------------- 44.9/203.1 MB 27.3 MB/s eta 0:00:06\n",
      "   --------- ------------------------------ 45.8/203.1 MB 27.3 MB/s eta 0:00:06\n",
      "   --------- ------------------------------ 46.5/203.1 MB 26.2 MB/s eta 0:00:06\n",
      "   --------- ------------------------------ 47.6/203.1 MB 26.2 MB/s eta 0:00:06\n",
      "   --------- ------------------------------ 48.8/203.1 MB 23.4 MB/s eta 0:00:07\n",
      "   --------- ------------------------------ 49.7/203.1 MB 22.5 MB/s eta 0:00:07\n",
      "   --------- ------------------------------ 50.6/203.1 MB 21.1 MB/s eta 0:00:08\n",
      "   ---------- ----------------------------- 51.4/203.1 MB 20.5 MB/s eta 0:00:08\n",
      "   ---------- ----------------------------- 52.1/203.1 MB 19.3 MB/s eta 0:00:08\n",
      "   ---------- ----------------------------- 52.6/203.1 MB 18.7 MB/s eta 0:00:09\n",
      "   ---------- ----------------------------- 53.2/203.1 MB 17.7 MB/s eta 0:00:09\n",
      "   ---------- ----------------------------- 54.4/203.1 MB 18.2 MB/s eta 0:00:09\n",
      "   ----------- ---------------------------- 57.1/203.1 MB 22.6 MB/s eta 0:00:07\n",
      "   ----------- ---------------------------- 58.2/203.1 MB 21.8 MB/s eta 0:00:07\n",
      "   ----------- ---------------------------- 59.2/203.1 MB 21.8 MB/s eta 0:00:07\n",
      "   ----------- ---------------------------- 60.2/203.1 MB 21.8 MB/s eta 0:00:07\n",
      "   ------------ --------------------------- 61.0/203.1 MB 21.8 MB/s eta 0:00:07\n",
      "   ------------ --------------------------- 61.8/203.1 MB 21.1 MB/s eta 0:00:07\n",
      "   ------------ --------------------------- 62.6/203.1 MB 21.8 MB/s eta 0:00:07\n",
      "   ------------ --------------------------- 63.3/203.1 MB 23.4 MB/s eta 0:00:06\n",
      "   ------------ --------------------------- 64.2/203.1 MB 23.4 MB/s eta 0:00:06\n",
      "   ------------ --------------------------- 64.8/203.1 MB 21.1 MB/s eta 0:00:07\n",
      "   ------------ --------------------------- 65.4/203.1 MB 19.8 MB/s eta 0:00:07\n",
      "   ------------- -------------------------- 66.0/203.1 MB 18.7 MB/s eta 0:00:08\n",
      "   ------------- -------------------------- 66.6/203.1 MB 16.8 MB/s eta 0:00:09\n",
      "   ------------- -------------------------- 67.1/203.1 MB 16.4 MB/s eta 0:00:09\n",
      "   ------------- -------------------------- 67.6/203.1 MB 15.2 MB/s eta 0:00:09\n",
      "   ------------- -------------------------- 68.1/203.1 MB 14.6 MB/s eta 0:00:10\n",
      "   ------------- -------------------------- 68.7/203.1 MB 14.6 MB/s eta 0:00:10\n",
      "   ------------- -------------------------- 69.4/203.1 MB 14.2 MB/s eta 0:00:10\n",
      "   ------------- -------------------------- 70.1/203.1 MB 13.9 MB/s eta 0:00:10\n",
      "   -------------- ------------------------- 71.9/203.1 MB 15.2 MB/s eta 0:00:09\n",
      "   -------------- ------------------------- 74.3/203.1 MB 17.7 MB/s eta 0:00:08\n",
      "   -------------- ------------------------- 75.2/203.1 MB 18.2 MB/s eta 0:00:08\n",
      "   -------------- ------------------------- 75.8/203.1 MB 18.2 MB/s eta 0:00:07\n",
      "   --------------- ------------------------ 76.5/203.1 MB 18.2 MB/s eta 0:00:07\n",
      "   --------------- ------------------------ 77.0/203.1 MB 18.2 MB/s eta 0:00:07\n",
      "   --------------- ------------------------ 77.8/203.1 MB 18.7 MB/s eta 0:00:07\n",
      "   --------------- ------------------------ 78.7/203.1 MB 20.5 MB/s eta 0:00:07\n",
      "   --------------- ------------------------ 79.8/203.1 MB 21.8 MB/s eta 0:00:06\n",
      "   --------------- ------------------------ 80.8/203.1 MB 22.6 MB/s eta 0:00:06\n",
      "   ---------------- ----------------------- 81.8/203.1 MB 21.1 MB/s eta 0:00:06\n",
      "   ---------------- ----------------------- 82.7/203.1 MB 19.3 MB/s eta 0:00:07\n",
      "   ---------------- ----------------------- 83.5/203.1 MB 18.2 MB/s eta 0:00:07\n",
      "   ---------------- ----------------------- 84.3/203.1 MB 17.2 MB/s eta 0:00:07\n",
      "   ---------------- ----------------------- 85.1/203.1 MB 17.3 MB/s eta 0:00:07\n",
      "   ---------------- ----------------------- 85.8/203.1 MB 17.3 MB/s eta 0:00:07\n",
      "   ----------------- ---------------------- 86.4/203.1 MB 17.2 MB/s eta 0:00:07\n",
      "   ----------------- ---------------------- 87.1/203.1 MB 17.7 MB/s eta 0:00:07\n",
      "   ----------------- ---------------------- 89.5/203.1 MB 20.5 MB/s eta 0:00:06\n",
      "   ------------------ --------------------- 92.7/203.1 MB 26.2 MB/s eta 0:00:05\n",
      "   ------------------ --------------------- 94.8/203.1 MB 32.7 MB/s eta 0:00:04\n",
      "   ------------------- -------------------- 98.5/203.1 MB 65.6 MB/s eta 0:00:02\n",
      "   ------------------- ------------------- 101.0/203.1 MB 59.8 MB/s eta 0:00:02\n",
      "   ------------------- ------------------- 103.9/203.1 MB 65.6 MB/s eta 0:00:02\n",
      "   -------------------- ------------------ 108.5/203.1 MB 65.6 MB/s eta 0:00:02\n",
      "   --------------------- ----------------- 112.4/203.1 MB 81.8 MB/s eta 0:00:02\n",
      "   ---------------------- ---------------- 116.0/203.1 MB 81.8 MB/s eta 0:00:02\n",
      "   ---------------------- ---------------- 119.6/203.1 MB 81.8 MB/s eta 0:00:02\n",
      "   ----------------------- --------------- 123.4/203.1 MB 81.8 MB/s eta 0:00:01\n",
      "   ------------------------ -------------- 125.4/203.1 MB 65.6 MB/s eta 0:00:02\n",
      "   ------------------------ -------------- 127.0/203.1 MB 59.5 MB/s eta 0:00:02\n",
      "   ------------------------ -------------- 129.3/203.1 MB 50.4 MB/s eta 0:00:02\n",
      "   ------------------------- ------------- 131.8/203.1 MB 46.7 MB/s eta 0:00:02\n",
      "   ------------------------- ------------- 133.6/203.1 MB 43.5 MB/s eta 0:00:02\n",
      "   -------------------------- ------------ 135.6/203.1 MB 43.5 MB/s eta 0:00:02\n",
      "   -------------------------- ------------ 137.7/203.1 MB 43.7 MB/s eta 0:00:02\n",
      "   --------------------------- ----------- 141.0/203.1 MB 46.7 MB/s eta 0:00:02\n",
      "   --------------------------- ----------- 144.6/203.1 MB 59.5 MB/s eta 0:00:01\n",
      "   ---------------------------- --------- 150.4/203.1 MB 108.8 MB/s eta 0:00:01\n",
      "   ----------------------------- -------- 156.0/203.1 MB 129.5 MB/s eta 0:00:01\n",
      "   ----------------------------- -------- 159.5/203.1 MB 110.0 MB/s eta 0:00:01\n",
      "   ------------------------------- ------- 163.6/203.1 MB 93.9 MB/s eta 0:00:01\n",
      "   -------------------------------- ------ 168.4/203.1 MB 93.9 MB/s eta 0:00:01\n",
      "   -------------------------------- ----- 173.7/203.1 MB 108.8 MB/s eta 0:00:01\n",
      "   ---------------------------------- ---- 177.5/203.1 MB 93.9 MB/s eta 0:00:01\n",
      "   ---------------------------------- ---- 180.5/203.1 MB 93.0 MB/s eta 0:00:01\n",
      "   ----------------------------------- --- 183.2/203.1 MB 72.6 MB/s eta 0:00:01\n",
      "   ----------------------------------- --- 185.8/203.1 MB 65.2 MB/s eta 0:00:01\n",
      "   ------------------------------------ -- 188.6/203.1 MB 59.8 MB/s eta 0:00:01\n",
      "   ------------------------------------ -- 191.5/203.1 MB 59.5 MB/s eta 0:00:01\n",
      "   ------------------------------------- - 193.2/203.1 MB 59.5 MB/s eta 0:00:01\n",
      "   ------------------------------------- - 196.9/203.1 MB 59.5 MB/s eta 0:00:01\n",
      "   --------------------------------------  200.0/203.1 MB 59.5 MB/s eta 0:00:01\n",
      "   --------------------------------------  202.8/203.1 MB 59.5 MB/s eta 0:00:01\n",
      "   --------------------------------------  203.1/203.1 MB 65.6 MB/s eta 0:00:01\n",
      "   --------------------------------------  203.1/203.1 MB 65.6 MB/s eta 0:00:01\n",
      "   --------------------------------------  203.1/203.1 MB 65.6 MB/s eta 0:00:01\n",
      "   --------------------------------------  203.1/203.1 MB 65.6 MB/s eta 0:00:01\n",
      "   --------------------------------------  203.1/203.1 MB 65.6 MB/s eta 0:00:01\n",
      "   --------------------------------------  203.1/203.1 MB 65.6 MB/s eta 0:00:01\n",
      "   --------------------------------------  203.1/203.1 MB 65.6 MB/s eta 0:00:01\n",
      "   --------------------------------------  203.1/203.1 MB 65.6 MB/s eta 0:00:01\n",
      "   --------------------------------------  203.1/203.1 MB 65.6 MB/s eta 0:00:01\n",
      "   --------------------------------------  203.1/203.1 MB 65.6 MB/s eta 0:00:01\n",
      "   --------------------------------------  203.1/203.1 MB 65.6 MB/s eta 0:00:01\n",
      "   --------------------------------------  203.1/203.1 MB 65.6 MB/s eta 0:00:01\n",
      "   --------------------------------------  203.1/203.1 MB 65.6 MB/s eta 0:00:01\n",
      "   --------------------------------------  203.1/203.1 MB 65.6 MB/s eta 0:00:01\n",
      "   --------------------------------------  203.1/203.1 MB 65.6 MB/s eta 0:00:01\n",
      "   --------------------------------------  203.1/203.1 MB 65.6 MB/s eta 0:00:01\n",
      "   --------------------------------------  203.1/203.1 MB 65.6 MB/s eta 0:00:01\n",
      "   --------------------------------------  203.1/203.1 MB 65.6 MB/s eta 0:00:01\n",
      "   --------------------------------------  203.1/203.1 MB 65.6 MB/s eta 0:00:01\n",
      "   --------------------------------------  203.1/203.1 MB 65.6 MB/s eta 0:00:01\n",
      "   --------------------------------------  203.1/203.1 MB 65.6 MB/s eta 0:00:01\n",
      "   --------------------------------------  203.1/203.1 MB 65.6 MB/s eta 0:00:01\n",
      "   --------------------------------------  203.1/203.1 MB 65.6 MB/s eta 0:00:01\n",
      "   --------------------------------------  203.1/203.1 MB 65.6 MB/s eta 0:00:01\n",
      "   --------------------------------------  203.1/203.1 MB 65.6 MB/s eta 0:00:01\n",
      "   --------------------------------------  203.1/203.1 MB 65.6 MB/s eta 0:00:01\n",
      "   --------------------------------------  203.1/203.1 MB 65.6 MB/s eta 0:00:01\n",
      "   --------------------------------------  203.1/203.1 MB 65.6 MB/s eta 0:00:01\n",
      "   --------------------------------------  203.1/203.1 MB 65.6 MB/s eta 0:00:01\n",
      "   --------------------------------------  203.1/203.1 MB 65.6 MB/s eta 0:00:01\n",
      "   --------------------------------------  203.1/203.1 MB 65.6 MB/s eta 0:00:01\n",
      "   --------------------------------------  203.1/203.1 MB 65.6 MB/s eta 0:00:01\n",
      "   --------------------------------------  203.1/203.1 MB 65.6 MB/s eta 0:00:01\n",
      "   --------------------------------------  203.1/203.1 MB 65.6 MB/s eta 0:00:01\n",
      "   --------------------------------------  203.1/203.1 MB 65.6 MB/s eta 0:00:01\n",
      "   --------------------------------------  203.1/203.1 MB 65.6 MB/s eta 0:00:01\n",
      "   --------------------------------------  203.1/203.1 MB 65.6 MB/s eta 0:00:01\n",
      "   --------------------------------------  203.1/203.1 MB 65.6 MB/s eta 0:00:01\n",
      "   --------------------------------------  203.1/203.1 MB 65.6 MB/s eta 0:00:01\n",
      "   --------------------------------------  203.1/203.1 MB 65.6 MB/s eta 0:00:01\n",
      "   --------------------------------------  203.1/203.1 MB 65.6 MB/s eta 0:00:01\n",
      "   --------------------------------------  203.1/203.1 MB 65.6 MB/s eta 0:00:01\n",
      "   ---------------------------------------- 203.1/203.1 MB 3.7 MB/s eta 0:00:00\n",
      "Downloading sympy-1.13.1-py3-none-any.whl (6.2 MB)\n",
      "   ---------------------------------------- 0.0/6.2 MB ? eta -:--:--\n",
      "   ------------------------- -------------- 3.9/6.2 MB 83.4 MB/s eta 0:00:01\n",
      "   ---------------------------------------  6.2/6.2 MB 79.2 MB/s eta 0:00:01\n",
      "   ---------------------------------------  6.2/6.2 MB 79.2 MB/s eta 0:00:01\n",
      "   ---------------------------------------- 6.2/6.2 MB 43.8 MB/s eta 0:00:00\n",
      "Downloading torchvision-0.20.1-cp311-cp311-win_amd64.whl (1.6 MB)\n",
      "   ---------------------------------------- 0.0/1.6 MB ? eta -:--:--\n",
      "   ---------------------------------------  1.6/1.6 MB 49.9 MB/s eta 0:00:01\n",
      "   ---------------------------------------- 1.6/1.6 MB 25.0 MB/s eta 0:00:00\n",
      "Downloading torchaudio-2.5.1-cp311-cp311-win_amd64.whl (2.4 MB)\n",
      "   ---------------------------------------- 0.0/2.4 MB ? eta -:--:--\n",
      "   ----------------- ---------------------- 1.0/2.4 MB 64.6 MB/s eta 0:00:01\n",
      "   ------------------------ --------------- 1.5/2.4 MB 18.7 MB/s eta 0:00:01\n",
      "   ---------------------------------------  2.4/2.4 MB 22.1 MB/s eta 0:00:01\n",
      "   ---------------------------------------- 2.4/2.4 MB 17.2 MB/s eta 0:00:00\n",
      "Installing collected packages: sympy, torch, torchvision, torchaudio\n",
      "  Attempting uninstall: sympy\n",
      "    Found existing installation: sympy 1.12\n",
      "    Uninstalling sympy-1.12:\n",
      "      Successfully uninstalled sympy-1.12\n",
      "Successfully installed sympy-1.13.1 torch-2.5.1 torchaudio-2.5.1 torchvision-0.20.1\n",
      "PyTorch version: 2.5.1+cpu\n",
      "Is CUDA available? False\n"
     ]
    }
   ],
   "source": [
    "# Import necessary libraries\n",
    "!pip install torch torchvision torchaudio\n",
    "import torch\n",
    "import numpy as np\n",
    "import matplotlib.pyplot as plt\n",
    "\n",
    "# Check if PyTorch is installed correctly\n",
    "print(\"PyTorch version:\", torch.__version__)\n",
    "print(\"Is CUDA available?\", torch.cuda.is_available())"
   ]
  },
  {
   "cell_type": "markdown",
   "id": "8c93cbde",
   "metadata": {},
   "source": [
    "## 2. Creating Tensors\n",
    "Tensors are the core data structure in PyTorch. Think of them as multi-dimensional arrays, similar to NumPy arrays."
   ]
  },
  {
   "cell_type": "markdown",
   "id": "5b0811ac",
   "metadata": {},
   "source": [
    "### Example: Creating Tensors from Lists or NumPy Arrays"
   ]
  },
  {
   "cell_type": "code",
   "execution_count": 2,
   "id": "5a59863f",
   "metadata": {},
   "outputs": [
    {
     "name": "stdout",
     "output_type": "stream",
     "text": [
      "Tensor from list: tensor([1, 2, 3, 4])\n",
      "Tensor from numpy array: tensor([5, 6, 7, 8], dtype=torch.int32)\n"
     ]
    }
   ],
   "source": [
    "# Create a tensor from a list\n",
    "tensor_from_list = torch.tensor([1, 2, 3, 4])\n",
    "print(\"Tensor from list:\", tensor_from_list)\n",
    "\n",
    "# Create a tensor from a NumPy array\n",
    "np_array = np.array([5, 6, 7, 8])\n",
    "tensor_from_np = torch.tensor(np_array)\n",
    "print(\"Tensor from numpy array:\", tensor_from_np)"
   ]
  },
  {
   "cell_type": "markdown",
   "id": "5d36f2a0",
   "metadata": {},
   "source": [
    "### Exercise 1: Create a 2x3 tensor with the numbers 1 through 6."
   ]
  },
  {
   "cell_type": "code",
   "execution_count": 3,
   "id": "6606a8dc",
   "metadata": {},
   "outputs": [
    {
     "name": "stdout",
     "output_type": "stream",
     "text": [
      "2x3 tensor:\n",
      " tensor([[1, 2, 3],\n",
      "        [4, 5, 6]])\n"
     ]
    }
   ],
   "source": [
    "# Your code here\n",
    "my_tensor = torch.tensor(([1,2,3],[4,5,6]))\n",
    "print(\"2x3 tensor:\\n\", my_tensor)"
   ]
  },
  {
   "cell_type": "markdown",
   "id": "e957ef01",
   "metadata": {},
   "source": [
    "## 3. Tensor Types and Attributes\n",
    "Each tensor has attributes such as `dtype`, `shape`, and `device`. Understanding these attributes is crucial for managing tensors."
   ]
  },
  {
   "cell_type": "code",
   "execution_count": 4,
   "id": "30e0ae1f",
   "metadata": {},
   "outputs": [
    {
     "name": "stdout",
     "output_type": "stream",
     "text": [
      "Data type: torch.float32\n",
      "Shape: torch.Size([2, 2])\n",
      "Device: cpu\n"
     ]
    }
   ],
   "source": [
    "# Example tensor\n",
    "example_tensor = torch.tensor([[1.0, 2.0], [3.0, 4.0]])\n",
    "\n",
    "print(\"Data type:\", example_tensor.dtype)\n",
    "print(\"Shape:\", example_tensor.shape)\n",
    "print(\"Device:\", example_tensor.device)"
   ]
  },
  {
   "cell_type": "markdown",
   "id": "494218c7",
   "metadata": {},
   "source": [
    "### Exercise 2: Create a 3x3 float tensor with all values set to 0.0, then check its attributes."
   ]
  },
  {
   "cell_type": "code",
   "execution_count": 23,
   "id": "66b26617",
   "metadata": {},
   "outputs": [
    {
     "name": "stdout",
     "output_type": "stream",
     "text": [
      "3x3 tensor:\n",
      " tensor([[0., 0., 0.],\n",
      "        [0., 0., 0.],\n",
      "        [0., 0., 0.]])\n",
      "Data type: torch.float32\n",
      "Shape: torch.Size([3, 3])\n"
     ]
    }
   ],
   "source": [
    "# Your code here\n",
    "zero_tensor = torch.zeros([3,3])\n",
    "print(\"3x3 tensor:\\n\", zero_tensor)\n",
    "print(\"Data type:\", zero_tensor.dtype)\n",
    "print(\"Shape:\", zero_tensor.shape)"
   ]
  },
  {
   "cell_type": "markdown",
   "id": "2c97e0dc",
   "metadata": {},
   "source": [
    "## 4. Basic Tensor Operations\n",
    "Just like in NumPy, you can perform mathematical operations on tensors."
   ]
  },
  {
   "cell_type": "markdown",
   "id": "ef710152",
   "metadata": {},
   "source": [
    "### Example: Basic Arithmetic Operations"
   ]
  },
  {
   "cell_type": "code",
   "execution_count": 24,
   "id": "a73e9473",
   "metadata": {},
   "outputs": [
    {
     "name": "stdout",
     "output_type": "stream",
     "text": [
      "Addition: tensor([5, 7, 9])\n",
      "Subtraction: tensor([-3, -3, -3])\n",
      "Multiplication: tensor([ 4, 10, 18])\n",
      "Division: tensor([0.2500, 0.4000, 0.5000])\n"
     ]
    }
   ],
   "source": [
    "a = torch.tensor([1, 2, 3])\n",
    "b = torch.tensor([4, 5, 6])\n",
    "\n",
    "print(\"Addition:\", a + b)\n",
    "print(\"Subtraction:\", a - b)\n",
    "print(\"Multiplication:\", a * b)\n",
    "print(\"Division:\", a / b)"
   ]
  },
  {
   "cell_type": "markdown",
   "id": "e49e286d",
   "metadata": {},
   "source": [
    "### Exercise 3: Create two 3x3 tensors and perform element-wise addition, subtraction, and multiplication."
   ]
  },
  {
   "cell_type": "code",
   "execution_count": 25,
   "id": "1e14f15a",
   "metadata": {},
   "outputs": [
    {
     "name": "stdout",
     "output_type": "stream",
     "text": [
      "Addition:\n",
      " tensor([[7, 7, 7],\n",
      "        [7, 7, 7]])\n",
      "Subtraction:\n",
      " tensor([[-5, -3, -1],\n",
      "        [ 1,  3,  5]])\n",
      "Multiplication:\n",
      " tensor([[ 6, 10, 12],\n",
      "        [12, 10,  6]])\n"
     ]
    }
   ],
   "source": [
    "# Your code here\n",
    "tensor_a = torch.tensor([[1, 2, 3], [4, 5, 6]])\n",
    "tensor_b = torch.tensor([[6, 5, 4], [3, 2, 1]])\n",
    "\n",
    "# Perform operations\n",
    "print(\"Addition:\\n\", tensor_a + tensor_b)\n",
    "print(\"Subtraction:\\n\", tensor_a - tensor_b)\n",
    "print(\"Multiplication:\\n\", tensor_a * tensor_b)"
   ]
  },
  {
   "cell_type": "markdown",
   "id": "77e229a5",
   "metadata": {},
   "source": [
    "## 5. Matrix Multiplication\n",
    "Matrix multiplication is essential in neural networks. PyTorch provides several ways to perform it."
   ]
  },
  {
   "cell_type": "code",
   "execution_count": 26,
   "id": "b0091357",
   "metadata": {},
   "outputs": [
    {
     "name": "stdout",
     "output_type": "stream",
     "text": [
      "Matrix multiplication result:\n",
      " tensor([[ 58,  64],\n",
      "        [139, 154]])\n"
     ]
    }
   ],
   "source": [
    "# 2x3 tensor\n",
    "matrix_a = torch.tensor([[1, 2, 3], [4, 5, 6]])\n",
    "# 3x2 tensor\n",
    "matrix_b = torch.tensor([[7, 8], [9, 10], [11, 12]])\n",
    "\n",
    "result = torch.matmul(matrix_a, matrix_b)\n",
    "print(\"Matrix multiplication result:\\n\", result)"
   ]
  },
  {
   "cell_type": "markdown",
   "id": "e4fee3be",
   "metadata": {},
   "source": [
    "### Exercise 4: Create a 2x3 and a 3x2 tensor, then perform matrix multiplication."
   ]
  },
  {
   "cell_type": "code",
   "execution_count": 33,
   "id": "83c42408",
   "metadata": {},
   "outputs": [
    {
     "name": "stdout",
     "output_type": "stream",
     "text": [
      "Matrix multiplication result:\n",
      " tensor([[ 58,  64],\n",
      "        [139, 154]])\n"
     ]
    }
   ],
   "source": [
    "# Your code here\n",
    "matrix_a = torch.tensor([[1, 2, 3], [4, 5, 6]])  # Shape: 2x3\n",
    "matrix_b = torch.tensor([[7, 8], [9, 10], [11, 12]])  # Shape: 3x2\n",
    "\n",
    "# Perform matrix multiplication\n",
    "result = torch.matmul(matrix_a, matrix_b)\n",
    "print(\"Matrix multiplication result:\\n\", result)"
   ]
  },
  {
   "cell_type": "markdown",
   "id": "6366f65d",
   "metadata": {},
   "source": [
    "## 6. Tensor Reshaping\n",
    "Reshaping tensors is helpful for feeding data into neural networks, where data often needs to be resized."
   ]
  },
  {
   "cell_type": "code",
   "execution_count": 32,
   "id": "b18e6119",
   "metadata": {},
   "outputs": [
    {
     "name": "stdout",
     "output_type": "stream",
     "text": [
      "Original tensor:\n",
      " tensor([[1, 2, 3],\n",
      "        [4, 5, 6]])\n",
      "Reshaped tensor:\n",
      " tensor([[1, 2],\n",
      "        [3, 4],\n",
      "        [5, 6]])\n"
     ]
    }
   ],
   "source": [
    "tensor = torch.tensor([[1, 2, 3], [4, 5, 6]])\n",
    "reshaped = tensor.view(3, 2)  # Change shape to 3x2\n",
    "print(\"Original tensor:\\n\", tensor)\n",
    "print(\"Reshaped tensor:\\n\", reshaped)"
   ]
  },
  {
   "cell_type": "markdown",
   "id": "722c8c76",
   "metadata": {},
   "source": [
    "### Exercise 5: Create a 1x6 tensor and reshape it into a 2x3 tensor."
   ]
  },
  {
   "cell_type": "code",
   "execution_count": 31,
   "id": "d7034110",
   "metadata": {},
   "outputs": [
    {
     "name": "stdout",
     "output_type": "stream",
     "text": [
      "Reshaped tensor:\n",
      " tensor([[1, 2, 3],\n",
      "        [4, 5, 6]])\n"
     ]
    }
   ],
   "source": [
    "# Your code here\n",
    "tensor = torch.tensor([1,2,3,4,5,6])\n",
    "reshaped_tensor = tensor.view(2,3)\n",
    "print(\"Reshaped tensor:\\n\", reshaped_tensor)"
   ]
  },
  {
   "cell_type": "markdown",
   "id": "a423eb50",
   "metadata": {},
   "source": [
    "## Summary\n",
    "In this notebook, you’ve explored the basics of PyTorch tensors, including creation, basic operations, matrix multiplication, and reshaping. Mastering these fundamentals will prepare you well for working with PyTorch in deep learning tasks. Keep experimenting and testing your understanding!"
   ]
  }
 ],
 "metadata": {
  "kernelspec": {
   "display_name": "Python 3 (ipykernel)",
   "language": "python",
   "name": "python3"
  },
  "language_info": {
   "codemirror_mode": {
    "name": "ipython",
    "version": 3
   },
   "file_extension": ".py",
   "mimetype": "text/x-python",
   "name": "python",
   "nbconvert_exporter": "python",
   "pygments_lexer": "ipython3",
   "version": "3.11.7"
  }
 },
 "nbformat": 4,
 "nbformat_minor": 5
}
